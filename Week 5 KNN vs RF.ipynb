{
 "cells": [
  {
   "cell_type": "code",
   "execution_count": 1,
   "metadata": {},
   "outputs": [],
   "source": [
    "import warnings\n",
    "warnings.filterwarnings('ignore')\n"
   ]
  },
  {
   "cell_type": "code",
   "execution_count": 3,
   "metadata": {},
   "outputs": [],
   "source": [
    "from sklearn import datasets, model_selection\n",
    "import numpy as np"
   ]
  },
  {
   "cell_type": "code",
   "execution_count": 64,
   "metadata": {},
   "outputs": [],
   "source": [
    "digits = datasets.load_digits()\n",
    "X = digits.data\n",
    "y = digits.target\n",
    "\n",
    "X_train, X_test, y_train, y_test = model_selection.train_test_split(X, y, test_size=0.25)"
   ]
  },
  {
   "cell_type": "code",
   "execution_count": 65,
   "metadata": {},
   "outputs": [],
   "source": [
    "def dist(arr1, arr2):\n",
    "    return np.sqrt(np.sum((arr1 - arr2) * (arr1 - arr2)))\n",
    "        \n",
    "    \n",
    "def knn(train, tests, labels):\n",
    "    labels_predicted = []\n",
    "    for test in tests:\n",
    "        test_dist = [[dist(test, train[i]), labels[i],] for i in range(len(train))]\n",
    "        test_dist.sort(key= lambda x: x[0])\n",
    "        labels_predicted.append(test_dist[0][1])\n",
    "    return labels_predicted"
   ]
  },
  {
   "cell_type": "code",
   "execution_count": 66,
   "metadata": {},
   "outputs": [],
   "source": [
    "a = knn(X_train, X_test, y_train)"
   ]
  },
  {
   "cell_type": "code",
   "execution_count": 67,
   "metadata": {},
   "outputs": [
    {
     "name": "stdout",
     "output_type": "stream",
     "text": [
      "[0, 9, 8, 8, 0, 2, 9, 9, 3, 8, 9, 6, 8, 0, 9, 2, 5, 7, 1, 3, 9, 9, 1, 2, 8, 6, 5, 2, 6, 8, 6, 5, 9, 6, 3, 4, 2, 2, 4, 7, 9, 1, 0, 3, 7, 3, 0, 8, 3, 2, 1, 8, 6, 7, 5, 1, 7, 8, 8, 4, 0, 6, 0, 0, 5, 6, 4, 5, 7, 7, 7, 0, 5, 3, 7, 0, 7, 0, 3, 3, 2, 8, 4, 4, 4, 0, 7, 3, 6, 1, 6, 6, 3, 1, 4, 9, 2, 5, 5, 3, 5, 9, 8, 5, 2, 8, 7, 6, 8, 1, 2, 2, 9, 9, 6, 0, 7, 2, 5, 3, 8, 4, 1, 2, 5, 4, 9, 2, 4, 1, 0, 0, 6, 4, 9, 9, 1, 1, 3, 2, 1, 8, 3, 7, 6, 5, 1, 7, 4, 3, 3, 5, 0, 4, 2, 3, 4, 5, 5, 4, 6, 2, 0, 0, 3, 8, 5, 2, 4, 0, 6, 9, 3, 1, 3, 4, 9, 3, 4, 9, 4, 5, 8, 7, 3, 2, 3, 6, 6, 0, 4, 1, 0, 9, 9, 3, 4, 8, 4, 4, 4, 9, 0, 5, 3, 3, 1, 9, 4, 9, 3, 6, 3, 2, 1, 7, 2, 6, 9, 7, 9, 0, 0, 3, 4, 2, 8, 1, 8, 7, 1, 7, 8, 2, 6, 0, 4, 7, 5, 3, 8, 9, 5, 0, 2, 1, 4, 4, 1, 9, 6, 9, 9, 3, 6, 8, 9, 5, 1, 9, 7, 0, 0, 3, 7, 0, 7, 5, 2, 0, 2, 0, 3, 7, 2, 4, 0, 0, 5, 5, 7, 9, 8, 2, 7, 1, 2, 0, 7, 6, 4, 3, 1, 3, 6, 3, 3, 8, 5, 6, 6, 5, 0, 2, 1, 3, 1, 7, 4, 6, 6, 7, 8, 5, 3, 0, 4, 5, 7, 9, 0, 9, 0, 3, 9, 5, 6, 7, 2, 7, 3, 1, 5, 2, 8, 7, 9, 7, 5, 9, 9, 6, 9, 5, 8, 0, 0, 3, 4, 8, 6, 6, 4, 7, 5, 8, 4, 4, 1, 4, 5, 2, 5, 1, 6, 2, 4, 2, 6, 6, 4, 0, 9, 2, 1, 0, 9, 1, 9, 5, 7, 3, 4, 7, 4, 3, 9, 3, 0, 2, 3, 1, 9, 0, 6, 7, 2, 5, 5, 2, 1, 7, 0, 6, 2, 0, 6, 7, 0, 6, 1, 8, 9, 8, 8, 5, 7, 8, 3, 1, 5, 7, 4, 3, 8, 4, 9, 4, 7, 3, 0, 4, 4, 3, 5, 9, 0, 9, 3, 0, 1, 4, 4, 7, 2, 5, 0, 0, 4, 2]\n"
     ]
    }
   ],
   "source": [
    "print(a)"
   ]
  },
  {
   "cell_type": "code",
   "execution_count": 68,
   "metadata": {},
   "outputs": [
    {
     "data": {
      "text/plain": [
       "array([0, 9, 8, 8, 0, 2, 9, 9, 3, 8, 9, 6, 8, 0, 9, 2, 5, 7, 1, 3, 9, 9,\n",
       "       1, 2, 8, 6, 5, 2, 6, 8, 6, 5, 9, 6, 9, 4, 2, 2, 4, 7, 9, 1, 0, 3,\n",
       "       7, 3, 0, 8, 3, 2, 1, 8, 6, 7, 5, 1, 7, 8, 8, 4, 0, 6, 0, 0, 5, 6,\n",
       "       4, 5, 7, 7, 7, 0, 9, 3, 7, 0, 7, 0, 3, 3, 2, 8, 4, 4, 4, 0, 7, 3,\n",
       "       6, 1, 6, 6, 3, 1, 4, 9, 2, 5, 5, 3, 5, 9, 8, 5, 2, 8, 7, 6, 8, 1,\n",
       "       2, 2, 9, 9, 6, 0, 7, 2, 5, 3, 8, 4, 1, 2, 5, 4, 9, 2, 4, 1, 0, 0,\n",
       "       6, 4, 9, 9, 1, 1, 3, 2, 1, 8, 3, 7, 6, 5, 1, 7, 4, 3, 3, 5, 0, 4,\n",
       "       2, 3, 4, 5, 5, 4, 6, 2, 0, 0, 3, 8, 5, 2, 4, 0, 6, 9, 3, 8, 3, 4,\n",
       "       9, 3, 4, 9, 4, 5, 8, 7, 3, 2, 3, 6, 6, 0, 4, 1, 0, 9, 9, 3, 4, 8,\n",
       "       4, 4, 4, 9, 0, 5, 3, 3, 1, 9, 4, 9, 3, 6, 3, 2, 1, 7, 2, 6, 9, 7,\n",
       "       9, 0, 0, 3, 4, 2, 8, 1, 8, 7, 1, 7, 8, 2, 6, 0, 4, 7, 5, 3, 8, 9,\n",
       "       5, 0, 2, 8, 4, 4, 1, 9, 6, 9, 9, 3, 6, 8, 9, 5, 1, 9, 7, 0, 0, 3,\n",
       "       7, 0, 7, 5, 2, 0, 2, 0, 3, 7, 2, 4, 0, 0, 5, 5, 7, 9, 8, 2, 7, 1,\n",
       "       2, 0, 7, 6, 4, 3, 1, 3, 6, 3, 3, 8, 5, 6, 6, 5, 0, 2, 1, 3, 1, 7,\n",
       "       4, 6, 6, 7, 8, 5, 3, 0, 4, 5, 7, 9, 0, 9, 0, 9, 9, 5, 6, 7, 2, 7,\n",
       "       3, 1, 5, 2, 8, 7, 9, 7, 5, 9, 9, 6, 9, 5, 8, 0, 0, 3, 4, 8, 6, 6,\n",
       "       4, 7, 5, 8, 4, 4, 1, 4, 5, 2, 5, 1, 6, 2, 4, 2, 6, 6, 4, 0, 9, 2,\n",
       "       1, 0, 9, 1, 9, 5, 7, 3, 4, 7, 4, 3, 9, 3, 0, 2, 3, 1, 9, 0, 6, 7,\n",
       "       2, 5, 5, 2, 1, 7, 0, 6, 2, 0, 6, 7, 0, 6, 1, 8, 9, 8, 8, 5, 7, 8,\n",
       "       3, 1, 5, 7, 4, 3, 8, 4, 9, 4, 7, 3, 0, 4, 4, 3, 5, 9, 0, 9, 3, 0,\n",
       "       1, 4, 4, 7, 2, 5, 0, 0, 4, 2])"
      ]
     },
     "execution_count": 68,
     "metadata": {},
     "output_type": "execute_result"
    }
   ],
   "source": [
    "y_test"
   ]
  },
  {
   "cell_type": "code",
   "execution_count": 69,
   "metadata": {},
   "outputs": [],
   "source": [
    "accu = np.sum([a != y_test]) / len(a)"
   ]
  },
  {
   "cell_type": "code",
   "execution_count": 70,
   "metadata": {},
   "outputs": [
    {
     "data": {
      "text/plain": [
       "0.011111111111111112"
      ]
     },
     "execution_count": 70,
     "metadata": {},
     "output_type": "execute_result"
    }
   ],
   "source": [
    "accu"
   ]
  },
  {
   "cell_type": "code",
   "execution_count": 71,
   "metadata": {},
   "outputs": [],
   "source": [
    "from sklearn.neighbors import KNeighborsClassifier"
   ]
  },
  {
   "cell_type": "code",
   "execution_count": 72,
   "metadata": {},
   "outputs": [],
   "source": [
    "model = KNeighborsClassifier(n_neighbors=1)\n",
    "model.fit(X_train, y_train)\n",
    "predictions = model.predict(X_test)"
   ]
  },
  {
   "cell_type": "code",
   "execution_count": 73,
   "metadata": {},
   "outputs": [],
   "source": [
    "accu = np.sum([predictions != y_test]) / len(a)"
   ]
  },
  {
   "cell_type": "code",
   "execution_count": 74,
   "metadata": {},
   "outputs": [
    {
     "name": "stdout",
     "output_type": "stream",
     "text": [
      "0.011111111111111112\n"
     ]
    }
   ],
   "source": [
    "print(accu)"
   ]
  },
  {
   "cell_type": "code",
   "execution_count": 85,
   "metadata": {},
   "outputs": [
    {
     "name": "stdout",
     "output_type": "stream",
     "text": [
      "0.0378619153674833\n"
     ]
    }
   ],
   "source": [
    "n_split = np.int(np.round(y.shape[0]*0.75))\n",
    "\n",
    "X_train_m = X[:n_split]\n",
    "\n",
    "y_train_m = y[:n_split]\n",
    "\n",
    "X_test_m = X[n_split:]\n",
    "\n",
    "y_test_m = y[n_split:]\n",
    "\n",
    "model = KNeighborsClassifier(n_neighbors=1)\n",
    "model.fit(X_train_m, y_train_m)\n",
    "predictions = model.predict(X_test_m)\n",
    "\n",
    "\n",
    "accu = np.sum([predictions != y_test_m]) / len(y_test_m)\n",
    "print(accu)"
   ]
  },
  {
   "cell_type": "code",
   "execution_count": 81,
   "metadata": {},
   "outputs": [],
   "source": [
    "from sklearn.metrics import accuracy_score"
   ]
  },
  {
   "cell_type": "code",
   "execution_count": 84,
   "metadata": {
    "scrolled": true
   },
   "outputs": [
    {
     "data": {
      "text/plain": [
       "0.03786191536748329"
      ]
     },
     "execution_count": 84,
     "metadata": {},
     "output_type": "execute_result"
    }
   ],
   "source": [
    "1 - accuracy_score(y_test_m, predictions)"
   ]
  },
  {
   "cell_type": "code",
   "execution_count": 86,
   "metadata": {},
   "outputs": [],
   "source": [
    "from sklearn.ensemble import RandomForestClassifier"
   ]
  },
  {
   "cell_type": "code",
   "execution_count": 89,
   "metadata": {},
   "outputs": [
    {
     "name": "stdout",
     "output_type": "stream",
     "text": [
      "0.0645879732739421\n",
      "0.9354120267260579\n"
     ]
    }
   ],
   "source": [
    "model_rf = RandomForestClassifier(n_estimators=1000)\n",
    "model_rf.fit(X_train_m, y_train_m)\n",
    "print(np.sum([model_rf.predict(X_test_m) != y_test_m]) / len(y_test_m))\n",
    "print(accuracy_score(y_test_m, model_rf.predict(X_test_m)))"
   ]
  }
 ],
 "metadata": {
  "kernelspec": {
   "display_name": "Python 3",
   "language": "python",
   "name": "python3"
  },
  "language_info": {
   "codemirror_mode": {
    "name": "ipython",
    "version": 3
   },
   "file_extension": ".py",
   "mimetype": "text/x-python",
   "name": "python",
   "nbconvert_exporter": "python",
   "pygments_lexer": "ipython3",
   "version": "3.7.4"
  }
 },
 "nbformat": 4,
 "nbformat_minor": 2
}
