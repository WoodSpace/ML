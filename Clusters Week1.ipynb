{
 "cells": [
  {
   "cell_type": "markdown",
   "metadata": {},
   "source": [
    "#  Размещение баннеров"
   ]
  },
  {
   "cell_type": "markdown",
   "metadata": {},
   "source": [
    "Представим, что международное круизное агентство Carnival Cruise Line решило себя разрекламировать с помощью баннеров и обратилось для этого к вам. Чтобы протестировать, велика ли от таких баннеров польза, их будет размещено всего 20 штук по всему миру. Вам надо выбрать 20 таких локаций для размещения, чтобы польза была большой и агентство продолжило с вами сотрудничать.\n",
    "\n",
    "Агентство крупное, и у него есть несколько офисов по всему миру. Вблизи этих офисов оно и хочет разместить баннеры — легче договариваться и проверять результат. Также эти места должны быть популярны среди туристов.\n",
    "\n",
    "Для поиска оптимальных мест воспользуемся базой данных крупнейшей социальной сети, основанной на локациях — Foursquare."
   ]
  },
  {
   "cell_type": "code",
   "execution_count": 1,
   "metadata": {},
   "outputs": [],
   "source": [
    "import warnings\n",
    "warnings.filterwarnings('ignore')"
   ]
  },
  {
   "cell_type": "code",
   "execution_count": 2,
   "metadata": {},
   "outputs": [],
   "source": [
    "import pandas as pd\n",
    "import numpy as np\n",
    "from sklearn.cluster import MeanShift\n",
    "from scipy.spatial.distance import euclidean"
   ]
  },
  {
   "cell_type": "code",
   "execution_count": 3,
   "metadata": {},
   "outputs": [],
   "source": [
    "data = pd.read_table('checkins.dat', sep='|')[1:]"
   ]
  },
  {
   "cell_type": "code",
   "execution_count": 4,
   "metadata": {},
   "outputs": [
    {
     "data": {
      "text/plain": [
       "['id', 'user_id', 'venue_id', 'latitude', 'longitude', 'created_at']"
      ]
     },
     "execution_count": 4,
     "metadata": {},
     "output_type": "execute_result"
    }
   ],
   "source": [
    "columns = [ str(i.strip()) for i in data.columns]\n",
    "columns"
   ]
  },
  {
   "cell_type": "code",
   "execution_count": 5,
   "metadata": {},
   "outputs": [
    {
     "data": {
      "text/plain": [
       "Index(['   id    ', ' user_id ', ' venue_id ', '     latitude      ',\n",
       "       '     longitude     ', '     created_at      '],\n",
       "      dtype='object')"
      ]
     },
     "execution_count": 5,
     "metadata": {},
     "output_type": "execute_result"
    }
   ],
   "source": [
    "data.columns"
   ]
  },
  {
   "cell_type": "code",
   "execution_count": 6,
   "metadata": {},
   "outputs": [],
   "source": [
    "df = pd.DataFrame(data)"
   ]
  },
  {
   "cell_type": "code",
   "execution_count": 7,
   "metadata": {},
   "outputs": [],
   "source": [
    "df.columns = columns"
   ]
  },
  {
   "cell_type": "code",
   "execution_count": 8,
   "metadata": {},
   "outputs": [],
   "source": [
    "def replace(x):\n",
    "    if x == '                   ':\n",
    "        return np.nan\n",
    "    else:\n",
    "        return x"
   ]
  },
  {
   "cell_type": "code",
   "execution_count": 9,
   "metadata": {},
   "outputs": [],
   "source": [
    "for column in df:\n",
    "    df[column] = df[column].apply(replace)"
   ]
  },
  {
   "cell_type": "code",
   "execution_count": 10,
   "metadata": {},
   "outputs": [],
   "source": [
    "df = df.dropna()"
   ]
  },
  {
   "cell_type": "code",
   "execution_count": 11,
   "metadata": {},
   "outputs": [],
   "source": [
    "train_df = df.drop('created_at', axis=1)[:100000]"
   ]
  },
  {
   "cell_type": "code",
   "execution_count": 12,
   "metadata": {},
   "outputs": [
    {
     "data": {
      "text/html": [
       "<div>\n",
       "<style scoped>\n",
       "    .dataframe tbody tr th:only-of-type {\n",
       "        vertical-align: middle;\n",
       "    }\n",
       "\n",
       "    .dataframe tbody tr th {\n",
       "        vertical-align: top;\n",
       "    }\n",
       "\n",
       "    .dataframe thead th {\n",
       "        text-align: right;\n",
       "    }\n",
       "</style>\n",
       "<table border=\"1\" class=\"dataframe\">\n",
       "  <thead>\n",
       "    <tr style=\"text-align: right;\">\n",
       "      <th></th>\n",
       "      <th>latitude</th>\n",
       "      <th>longitude</th>\n",
       "    </tr>\n",
       "  </thead>\n",
       "  <tbody>\n",
       "    <tr>\n",
       "      <td>2</td>\n",
       "      <td>38.8951118</td>\n",
       "      <td>-77.0363658</td>\n",
       "    </tr>\n",
       "    <tr>\n",
       "      <td>4</td>\n",
       "      <td>33.800745</td>\n",
       "      <td>-84.41052</td>\n",
       "    </tr>\n",
       "    <tr>\n",
       "      <td>8</td>\n",
       "      <td>45.5234515</td>\n",
       "      <td>-122.6762071</td>\n",
       "    </tr>\n",
       "    <tr>\n",
       "      <td>10</td>\n",
       "      <td>40.764462</td>\n",
       "      <td>-111.904565</td>\n",
       "    </tr>\n",
       "    <tr>\n",
       "      <td>11</td>\n",
       "      <td>33.4483771</td>\n",
       "      <td>-112.0740373</td>\n",
       "    </tr>\n",
       "    <tr>\n",
       "      <td>...</td>\n",
       "      <td>...</td>\n",
       "      <td>...</td>\n",
       "    </tr>\n",
       "    <tr>\n",
       "      <td>233789</td>\n",
       "      <td>33.575</td>\n",
       "      <td>-117.7255556</td>\n",
       "    </tr>\n",
       "    <tr>\n",
       "      <td>233790</td>\n",
       "      <td>37.629349</td>\n",
       "      <td>-122.400087</td>\n",
       "    </tr>\n",
       "    <tr>\n",
       "      <td>233794</td>\n",
       "      <td>29.7628844</td>\n",
       "      <td>-95.3830615</td>\n",
       "    </tr>\n",
       "    <tr>\n",
       "      <td>233798</td>\n",
       "      <td>32.802955</td>\n",
       "      <td>-96.769923</td>\n",
       "    </tr>\n",
       "    <tr>\n",
       "      <td>233799</td>\n",
       "      <td>37.7749295</td>\n",
       "      <td>-122.4194155</td>\n",
       "    </tr>\n",
       "  </tbody>\n",
       "</table>\n",
       "<p>100000 rows × 2 columns</p>\n",
       "</div>"
      ],
      "text/plain": [
       "                   latitude            longitude\n",
       "2               38.8951118          -77.0363658 \n",
       "4                33.800745            -84.41052 \n",
       "8               45.5234515         -122.6762071 \n",
       "10               40.764462          -111.904565 \n",
       "11              33.4483771         -112.0740373 \n",
       "...                     ...                  ...\n",
       "233789              33.575         -117.7255556 \n",
       "233790           37.629349          -122.400087 \n",
       "233794          29.7628844          -95.3830615 \n",
       "233798           32.802955           -96.769923 \n",
       "233799          37.7749295         -122.4194155 \n",
       "\n",
       "[100000 rows x 2 columns]"
      ]
     },
     "execution_count": 12,
     "metadata": {},
     "output_type": "execute_result"
    }
   ],
   "source": [
    "X = train_df[['latitude', 'longitude']]\n",
    "X"
   ]
  },
  {
   "cell_type": "code",
   "execution_count": 14,
   "metadata": {},
   "outputs": [],
   "source": [
    "clustering = MeanShift(bandwidth=0.1).fit(X)"
   ]
  },
  {
   "cell_type": "code",
   "execution_count": 29,
   "metadata": {},
   "outputs": [],
   "source": [
    "val, count = np.unique(clustering.labels_, return_counts=True)"
   ]
  },
  {
   "cell_type": "code",
   "execution_count": 32,
   "metadata": {},
   "outputs": [],
   "source": [
    "labels = [x for x in val if count[x] > 15]"
   ]
  },
  {
   "cell_type": "markdown",
   "metadata": {},
   "source": [
    "Как мы помним, 20 баннеров надо разместить близ офисов компании. Найдем на Google Maps по запросу Carnival Cruise Line адреса всех офисов:"
   ]
  },
  {
   "cell_type": "code",
   "execution_count": 34,
   "metadata": {},
   "outputs": [],
   "source": [
    "offices = [(33.751277, -118.188740),(25.867736, -80.324116),\n",
    "           (51.503016, -0.075479), (52.378894, 4.885084),\n",
    "           (39.366487, 117.036146),(-33.868457, 151.205134),]"
   ]
  },
  {
   "cell_type": "markdown",
   "metadata": {},
   "source": [
    "Осталось определить 20 ближайших к ним центров кластеров. Т.е. посчитать дистанцию до ближайшего офиса для каждой точки и выбрать 20 с наименьшим значением."
   ]
  },
  {
   "cell_type": "code",
   "execution_count": 49,
   "metadata": {},
   "outputs": [],
   "source": [
    "ans = []\n",
    "for of in offices:\n",
    "    dif = 999999\n",
    "    for i in labels:\n",
    "        if euclidean(of, clustering.cluster_centers_[i]) < dif:\n",
    "            dif = euclidean(of, clustering.cluster_centers_[i])\n",
    "            center = clustering.cluster_centers_[i][0],clustering.cluster_centers_[i][1]\n",
    "    ans.append((center[0], center[1], dif))\n"
   ]
  },
  {
   "cell_type": "code",
   "execution_count": 47,
   "metadata": {},
   "outputs": [],
   "source": [
    "ans.sort(key=lambda x: x[2])"
   ]
  },
  {
   "cell_type": "code",
   "execution_count": 50,
   "metadata": {},
   "outputs": [
    {
     "data": {
      "text/plain": [
       "[(33.8098779552631, -118.14892380690813, 0.07084773242719973),\n",
       " (25.8456722642857, -80.31889059642857, 0.022674066158385495),\n",
       " (51.502991260887086, -0.12553728870967767, 0.05005829482278787),\n",
       " (52.37296399032261, 4.892317222580647, 0.009353316185992226),\n",
       " (31.230393000000017, 121.473704, 9.267575010767363),\n",
       " (-33.86063042857143, 151.20477592857145, 0.007834758163107856)]"
      ]
     },
     "execution_count": 50,
     "metadata": {},
     "output_type": "execute_result"
    }
   ],
   "source": [
    "ans"
   ]
  }
 ],
 "metadata": {
  "kernelspec": {
   "display_name": "Python 3",
   "language": "python",
   "name": "python3"
  },
  "language_info": {
   "codemirror_mode": {
    "name": "ipython",
    "version": 3
   },
   "file_extension": ".py",
   "mimetype": "text/x-python",
   "name": "python",
   "nbconvert_exporter": "python",
   "pygments_lexer": "ipython3",
   "version": "3.7.4"
  }
 },
 "nbformat": 4,
 "nbformat_minor": 2
}
