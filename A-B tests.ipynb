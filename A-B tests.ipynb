{
 "cells": [
  {
   "cell_type": "markdown",
   "metadata": {},
   "source": [
    "# Анализ результатов АБ-теста"
   ]
  },
  {
   "cell_type": "code",
   "execution_count": 1,
   "metadata": {},
   "outputs": [],
   "source": [
    "import numpy as np\n",
    "import pandas as pd\n",
    "from scipy import stats\n",
    "from statsmodels.sandbox.stats.multicomp import multipletests \n",
    "import matplotlib.pyplot as plt\n",
    "import seaborn as sns\n",
    "\n",
    "%matplotlib inline\n",
    "import warnings\n",
    "warnings.filterwarnings('ignore')"
   ]
  },
  {
   "cell_type": "markdown",
   "metadata": {},
   "source": [
    "В данном задании вам нужно будет\n",
    "\n",
    "    проанализировать АБ тест, проведенный на реальных пользователях Яндекса\n",
    "    подтвердить или опровергнуть наличие изменений в пользовательском поведении между контрольной (control) и тестовой (exp) группами\n",
    "    определить характер этих изменений и практическую значимость вводимого изменения\n",
    "    понять, какая из пользовательских групп более всего проигрывает / выигрывает от тестируемого изменения (локализовать изменение)\n",
    "\n",
    "Описание данных:\n",
    "\n",
    "    userID: уникальный идентификатор пользователя\n",
    "    browser: браузер, который использовал userID\n",
    "    slot: в каком статусе пользователь участвовал в исследовании (exp = видел измененную страницу, control = видел неизменную страницу)\n",
    "    n_clicks: количество кликов, которые пользоваль совершил за n_queries\n",
    "    n_queries: количество запросов, который совершил userID, пользуясь браузером browser\n",
    "    n_nonclk_queries: количество запросов пользователя, в которых им не было совершено ни одного клика\n",
    "\n",
    "Обращаем ваше внимание, что не все люди используют только один браузер, поэтому в столбце userID есть повторяющиеся идентификаторы. В предлагаемых данных уникальным является сочетание userID и browser."
   ]
  },
  {
   "cell_type": "code",
   "execution_count": 2,
   "metadata": {},
   "outputs": [],
   "source": [
    "data = pd.read_csv('ab_browser_test.csv')"
   ]
  },
  {
   "cell_type": "code",
   "execution_count": 3,
   "metadata": {},
   "outputs": [
    {
     "data": {
      "text/html": [
       "<div>\n",
       "<style scoped>\n",
       "    .dataframe tbody tr th:only-of-type {\n",
       "        vertical-align: middle;\n",
       "    }\n",
       "\n",
       "    .dataframe tbody tr th {\n",
       "        vertical-align: top;\n",
       "    }\n",
       "\n",
       "    .dataframe thead th {\n",
       "        text-align: right;\n",
       "    }\n",
       "</style>\n",
       "<table border=\"1\" class=\"dataframe\">\n",
       "  <thead>\n",
       "    <tr style=\"text-align: right;\">\n",
       "      <th></th>\n",
       "      <th>userID</th>\n",
       "      <th>browser</th>\n",
       "      <th>slot</th>\n",
       "      <th>n_clicks</th>\n",
       "      <th>n_queries</th>\n",
       "      <th>n_nonclk_queries</th>\n",
       "    </tr>\n",
       "  </thead>\n",
       "  <tbody>\n",
       "    <tr>\n",
       "      <td>0</td>\n",
       "      <td>1</td>\n",
       "      <td>Browser #2</td>\n",
       "      <td>exp</td>\n",
       "      <td>23</td>\n",
       "      <td>32</td>\n",
       "      <td>19</td>\n",
       "    </tr>\n",
       "    <tr>\n",
       "      <td>1</td>\n",
       "      <td>3</td>\n",
       "      <td>Browser #4</td>\n",
       "      <td>exp</td>\n",
       "      <td>3</td>\n",
       "      <td>4</td>\n",
       "      <td>2</td>\n",
       "    </tr>\n",
       "    <tr>\n",
       "      <td>2</td>\n",
       "      <td>5</td>\n",
       "      <td>Browser #4</td>\n",
       "      <td>exp</td>\n",
       "      <td>29</td>\n",
       "      <td>35</td>\n",
       "      <td>16</td>\n",
       "    </tr>\n",
       "    <tr>\n",
       "      <td>3</td>\n",
       "      <td>6</td>\n",
       "      <td>Browser #4</td>\n",
       "      <td>control</td>\n",
       "      <td>12</td>\n",
       "      <td>6</td>\n",
       "      <td>0</td>\n",
       "    </tr>\n",
       "    <tr>\n",
       "      <td>4</td>\n",
       "      <td>7</td>\n",
       "      <td>Browser #4</td>\n",
       "      <td>exp</td>\n",
       "      <td>54</td>\n",
       "      <td>68</td>\n",
       "      <td>30</td>\n",
       "    </tr>\n",
       "  </tbody>\n",
       "</table>\n",
       "</div>"
      ],
      "text/plain": [
       "   userID     browser     slot  n_clicks  n_queries  n_nonclk_queries\n",
       "0       1  Browser #2      exp        23         32                19\n",
       "1       3  Browser #4      exp         3          4                 2\n",
       "2       5  Browser #4      exp        29         35                16\n",
       "3       6  Browser #4  control        12          6                 0\n",
       "4       7  Browser #4      exp        54         68                30"
      ]
     },
     "execution_count": 3,
     "metadata": {},
     "output_type": "execute_result"
    }
   ],
   "source": [
    "data.head()"
   ]
  },
  {
   "cell_type": "code",
   "execution_count": 4,
   "metadata": {},
   "outputs": [
    {
     "name": "stdout",
     "output_type": "stream",
     "text": [
      "<class 'pandas.core.frame.DataFrame'>\n",
      "RangeIndex: 566134 entries, 0 to 566133\n",
      "Data columns (total 6 columns):\n",
      "userID              566134 non-null int64\n",
      "browser             566134 non-null object\n",
      "slot                566134 non-null object\n",
      "n_clicks            566134 non-null int64\n",
      "n_queries           566134 non-null int64\n",
      "n_nonclk_queries    566134 non-null int64\n",
      "dtypes: int64(4), object(2)\n",
      "memory usage: 25.9+ MB\n"
     ]
    }
   ],
   "source": [
    "data.info()"
   ]
  },
  {
   "cell_type": "code",
   "execution_count": 5,
   "metadata": {},
   "outputs": [
    {
     "data": {
      "text/html": [
       "<div>\n",
       "<style scoped>\n",
       "    .dataframe tbody tr th:only-of-type {\n",
       "        vertical-align: middle;\n",
       "    }\n",
       "\n",
       "    .dataframe tbody tr th {\n",
       "        vertical-align: top;\n",
       "    }\n",
       "\n",
       "    .dataframe thead th {\n",
       "        text-align: right;\n",
       "    }\n",
       "</style>\n",
       "<table border=\"1\" class=\"dataframe\">\n",
       "  <thead>\n",
       "    <tr style=\"text-align: right;\">\n",
       "      <th></th>\n",
       "      <th>userID</th>\n",
       "      <th>n_clicks</th>\n",
       "      <th>n_queries</th>\n",
       "      <th>n_nonclk_queries</th>\n",
       "    </tr>\n",
       "  </thead>\n",
       "  <tbody>\n",
       "    <tr>\n",
       "      <td>count</td>\n",
       "      <td>566134.000000</td>\n",
       "      <td>566134.000000</td>\n",
       "      <td>566134.000000</td>\n",
       "      <td>566134.000000</td>\n",
       "    </tr>\n",
       "    <tr>\n",
       "      <td>mean</td>\n",
       "      <td>301377.214027</td>\n",
       "      <td>11.431658</td>\n",
       "      <td>10.720524</td>\n",
       "      <td>4.703987</td>\n",
       "    </tr>\n",
       "    <tr>\n",
       "      <td>std</td>\n",
       "      <td>175526.333101</td>\n",
       "      <td>20.251494</td>\n",
       "      <td>16.262827</td>\n",
       "      <td>8.109958</td>\n",
       "    </tr>\n",
       "    <tr>\n",
       "      <td>min</td>\n",
       "      <td>1.000000</td>\n",
       "      <td>0.000000</td>\n",
       "      <td>1.000000</td>\n",
       "      <td>0.000000</td>\n",
       "    </tr>\n",
       "    <tr>\n",
       "      <td>25%</td>\n",
       "      <td>148627.250000</td>\n",
       "      <td>1.000000</td>\n",
       "      <td>2.000000</td>\n",
       "      <td>1.000000</td>\n",
       "    </tr>\n",
       "    <tr>\n",
       "      <td>50%</td>\n",
       "      <td>299362.500000</td>\n",
       "      <td>4.000000</td>\n",
       "      <td>5.000000</td>\n",
       "      <td>2.000000</td>\n",
       "    </tr>\n",
       "    <tr>\n",
       "      <td>75%</td>\n",
       "      <td>455698.750000</td>\n",
       "      <td>13.000000</td>\n",
       "      <td>13.000000</td>\n",
       "      <td>6.000000</td>\n",
       "    </tr>\n",
       "    <tr>\n",
       "      <td>max</td>\n",
       "      <td>603137.000000</td>\n",
       "      <td>863.000000</td>\n",
       "      <td>665.000000</td>\n",
       "      <td>581.000000</td>\n",
       "    </tr>\n",
       "  </tbody>\n",
       "</table>\n",
       "</div>"
      ],
      "text/plain": [
       "              userID       n_clicks      n_queries  n_nonclk_queries\n",
       "count  566134.000000  566134.000000  566134.000000     566134.000000\n",
       "mean   301377.214027      11.431658      10.720524          4.703987\n",
       "std    175526.333101      20.251494      16.262827          8.109958\n",
       "min         1.000000       0.000000       1.000000          0.000000\n",
       "25%    148627.250000       1.000000       2.000000          1.000000\n",
       "50%    299362.500000       4.000000       5.000000          2.000000\n",
       "75%    455698.750000      13.000000      13.000000          6.000000\n",
       "max    603137.000000     863.000000     665.000000        581.000000"
      ]
     },
     "execution_count": 5,
     "metadata": {},
     "output_type": "execute_result"
    }
   ],
   "source": [
    "data.describe()"
   ]
  },
  {
   "cell_type": "code",
   "execution_count": 6,
   "metadata": {},
   "outputs": [],
   "source": [
    "data['browser'] = data['browser'].apply(lambda x: x.split('#')[1])"
   ]
  },
  {
   "cell_type": "code",
   "execution_count": 7,
   "metadata": {},
   "outputs": [
    {
     "data": {
      "text/html": [
       "<div>\n",
       "<style scoped>\n",
       "    .dataframe tbody tr th:only-of-type {\n",
       "        vertical-align: middle;\n",
       "    }\n",
       "\n",
       "    .dataframe tbody tr th {\n",
       "        vertical-align: top;\n",
       "    }\n",
       "\n",
       "    .dataframe thead th {\n",
       "        text-align: right;\n",
       "    }\n",
       "</style>\n",
       "<table border=\"1\" class=\"dataframe\">\n",
       "  <thead>\n",
       "    <tr style=\"text-align: right;\">\n",
       "      <th></th>\n",
       "      <th>userID</th>\n",
       "      <th>browser</th>\n",
       "      <th>slot</th>\n",
       "      <th>n_clicks</th>\n",
       "      <th>n_queries</th>\n",
       "      <th>n_nonclk_queries</th>\n",
       "    </tr>\n",
       "  </thead>\n",
       "  <tbody>\n",
       "    <tr>\n",
       "      <td>0</td>\n",
       "      <td>1</td>\n",
       "      <td>2</td>\n",
       "      <td>exp</td>\n",
       "      <td>23</td>\n",
       "      <td>32</td>\n",
       "      <td>19</td>\n",
       "    </tr>\n",
       "    <tr>\n",
       "      <td>1</td>\n",
       "      <td>3</td>\n",
       "      <td>4</td>\n",
       "      <td>exp</td>\n",
       "      <td>3</td>\n",
       "      <td>4</td>\n",
       "      <td>2</td>\n",
       "    </tr>\n",
       "    <tr>\n",
       "      <td>2</td>\n",
       "      <td>5</td>\n",
       "      <td>4</td>\n",
       "      <td>exp</td>\n",
       "      <td>29</td>\n",
       "      <td>35</td>\n",
       "      <td>16</td>\n",
       "    </tr>\n",
       "    <tr>\n",
       "      <td>3</td>\n",
       "      <td>6</td>\n",
       "      <td>4</td>\n",
       "      <td>control</td>\n",
       "      <td>12</td>\n",
       "      <td>6</td>\n",
       "      <td>0</td>\n",
       "    </tr>\n",
       "    <tr>\n",
       "      <td>4</td>\n",
       "      <td>7</td>\n",
       "      <td>4</td>\n",
       "      <td>exp</td>\n",
       "      <td>54</td>\n",
       "      <td>68</td>\n",
       "      <td>30</td>\n",
       "    </tr>\n",
       "  </tbody>\n",
       "</table>\n",
       "</div>"
      ],
      "text/plain": [
       "   userID browser     slot  n_clicks  n_queries  n_nonclk_queries\n",
       "0       1       2      exp        23         32                19\n",
       "1       3       4      exp         3          4                 2\n",
       "2       5       4      exp        29         35                16\n",
       "3       6       4  control        12          6                 0\n",
       "4       7       4      exp        54         68                30"
      ]
     },
     "execution_count": 7,
     "metadata": {},
     "output_type": "execute_result"
    }
   ],
   "source": [
    "data.head()"
   ]
  },
  {
   "cell_type": "code",
   "execution_count": 8,
   "metadata": {
    "scrolled": false
   },
   "outputs": [
    {
     "data": {
      "text/plain": [
       "4     156833\n",
       "22    142905\n",
       "2     110737\n",
       "14     89123\n",
       "20     33929\n",
       "17     32607\n",
       "Name: browser, dtype: int64"
      ]
     },
     "execution_count": 8,
     "metadata": {},
     "output_type": "execute_result"
    }
   ],
   "source": [
    "data.browser.value_counts()"
   ]
  },
  {
   "cell_type": "markdown",
   "metadata": {},
   "source": [
    "Основная метрика, на которой мы сосредоточимся в этой работе, — это количество пользовательских кликов на web-странице в зависимости от тестируемого изменения этой страницы.\n",
    "\n",
    "Посчитаем, насколько в группе exp больше пользовательских кликов по сравнению с группой control в процентах от числа кликов в контрольной группе."
   ]
  },
  {
   "cell_type": "code",
   "execution_count": 9,
   "metadata": {},
   "outputs": [
    {
     "data": {
      "text/plain": [
       "control    284554\n",
       "exp        281580\n",
       "Name: slot, dtype: int64"
      ]
     },
     "execution_count": 9,
     "metadata": {},
     "output_type": "execute_result"
    }
   ],
   "source": [
    "data.slot.value_counts()"
   ]
  },
  {
   "cell_type": "code",
   "execution_count": 10,
   "metadata": {},
   "outputs": [],
   "source": [
    "exp_ind = data.slot.loc[data.slot == 'exp'].index\n",
    "ctrl_ind = data.slot.loc[data.slot == 'control'].index"
   ]
  },
  {
   "cell_type": "code",
   "execution_count": 11,
   "metadata": {},
   "outputs": [
    {
     "name": "stdout",
     "output_type": "stream",
     "text": [
      "Assumption error: 0.0105\n"
     ]
    }
   ],
   "source": [
    "err = 1 - data.slot.loc[exp_ind].shape[0] / data.slot.loc[ctrl_ind].shape[0]\n",
    "print('Assumption error: %.4f' % err)"
   ]
  },
  {
   "cell_type": "code",
   "execution_count": 12,
   "metadata": {},
   "outputs": [
    {
     "name": "stdout",
     "output_type": "stream",
     "text": [
      "Total number of clicks in each group\n",
      "Exp: 3261823\n",
      "Control: 3210027\n"
     ]
    }
   ],
   "source": [
    "exp_cl_num = data.n_clicks.loc[exp_ind].sum()\n",
    "ctrl_cl_num = data.n_clicks.loc[ctrl_ind].sum()\n",
    "\n",
    "print('Total number of clicks in each group')\n",
    "print('Exp: %d' % exp_cl_num)\n",
    "print('Control: %d' % ctrl_cl_num)"
   ]
  },
  {
   "cell_type": "code",
   "execution_count": 13,
   "metadata": {},
   "outputs": [
    {
     "name": "stdout",
     "output_type": "stream",
     "text": [
      "Proportion increase of clicks for exp over control: 1.614%\n"
     ]
    }
   ],
   "source": [
    "prop_inc_clicks = (exp_cl_num / ctrl_cl_num - 1) * 100\n",
    "print('Proportion increase of clicks for exp over control: %.3f%%' % prop_inc_clicks)"
   ]
  },
  {
   "cell_type": "markdown",
   "metadata": {},
   "source": [
    "Давайте попробуем посмотреть более внимательно на разницу между двумя группами (control и exp) относительно количества пользовательских кликов.\n",
    "\n",
    "Для этого построим с помощью бутстрепа 95% доверительный интервал для средних значений и медиан количества кликов в каждой из двух групп."
   ]
  },
  {
   "cell_type": "code",
   "execution_count": 14,
   "metadata": {},
   "outputs": [
    {
     "name": "stdout",
     "output_type": "stream",
     "text": [
      "Mean number of clicks in each group\n",
      "Exp: 11.5840\n",
      "Control: 11.2809\n",
      "\n",
      "Median number of clicks in each group\n",
      "Exp: 5\n",
      "Control: 4\n"
     ]
    }
   ],
   "source": [
    "exp_cl_mean = data.n_clicks.loc[exp_ind].mean()\n",
    "ctrl_cl_mean = data.n_clicks.loc[ctrl_ind].mean()\n",
    "print('Mean number of clicks in each group')\n",
    "print('Exp: %.4f' % exp_cl_mean)\n",
    "print('Control: %.4f' % ctrl_cl_mean)\n",
    "print('')\n",
    "\n",
    "#Clicks median values\n",
    "exp_cl_mean = data.n_clicks.loc[exp_ind].median()\n",
    "ctrl_cl_mean = data.n_clicks.loc[ctrl_ind].median()\n",
    "print('Median number of clicks in each group')\n",
    "print('Exp: %d' % exp_cl_mean)\n",
    "print('Control: %d' % ctrl_cl_mean)"
   ]
  },
  {
   "cell_type": "code",
   "execution_count": 15,
   "metadata": {},
   "outputs": [],
   "source": [
    "def get_bootstrap_samples(data, n_samples):\n",
    "    indices = np.random.randint(0, len(data), (n_samples, len(data)))\n",
    "    samples = data[indices]\n",
    "    return samples"
   ]
  },
  {
   "cell_type": "code",
   "execution_count": 16,
   "metadata": {},
   "outputs": [],
   "source": [
    "def stat_intervals(stat, alpha):\n",
    "    boundaries = np.percentile(stat, [100 * alpha / 2., 100 * (1 - alpha / 2.)])\n",
    "    return boundaries"
   ]
  },
  {
   "cell_type": "code",
   "execution_count": 17,
   "metadata": {},
   "outputs": [],
   "source": [
    "np.random.seed(0)\n",
    "\n",
    "num_of_samples = 100\n",
    "\n",
    "exp_cl_mean, ctrl_cl_mean = np.empty(num_of_samples), np.empty(num_of_samples)\n",
    "exp_cl_median, ctrl_cl_median = np.empty(num_of_samples), np.empty(num_of_samples)\n",
    "\n",
    "ctrl_cl_var = np.empty(num_of_samples)\n",
    "\n",
    "exp_data = get_bootstrap_samples(data.n_clicks.loc[exp_ind].values, num_of_samples)\n",
    "ctrl_data = get_bootstrap_samples(data.n_clicks.loc[ctrl_ind].values, num_of_samples)"
   ]
  },
  {
   "cell_type": "code",
   "execution_count": 18,
   "metadata": {},
   "outputs": [],
   "source": [
    "for i in range(num_of_samples):\n",
    "    exp_cl_mean[i], ctrl_cl_mean[i] = exp_data[i].mean(), ctrl_data[i].mean() \n",
    "    exp_cl_median[i], ctrl_cl_median[i] = np.median(exp_data[i]), np.median(ctrl_data[i])\n",
    "    \n",
    "    ctrl_cl_var[i] = ctrl_data[i].var()"
   ]
  },
  {
   "cell_type": "code",
   "execution_count": 19,
   "metadata": {},
   "outputs": [
    {
     "name": "stdout",
     "output_type": "stream",
     "text": [
      "Conf. int. delta mean: [0.2070, 0.3944]\n",
      "Conf. int. delta median: [1, 1]\n",
      "legend: diff = exp - control\n"
     ]
    }
   ],
   "source": [
    "delta_mean = list(map(lambda x: x[0] - x[1], zip(exp_cl_mean, ctrl_cl_mean)))\n",
    "delta_median = list(map(lambda x: x[0] - x[1], zip(exp_cl_median, ctrl_cl_median)))\n",
    "\n",
    "delta_mean_bnd = stat_intervals(delta_mean, 0.05)\n",
    "delta_median_bnd = stat_intervals(delta_median, 0.05)\n",
    "\n",
    "print('Conf. int. delta mean: [%.4f, %.4f]' % (delta_mean_bnd[0], delta_mean_bnd[1]))\n",
    "print('Conf. int. delta median: [%d, %d]' % (delta_median_bnd[0], delta_median_bnd[1]))\n",
    "print('legend: diff = exp - control')"
   ]
  },
  {
   "cell_type": "markdown",
   "metadata": {},
   "source": [
    "Поскольку данных достаточно много (порядка полумиллиона уникальных пользователей), отличие в несколько процентов может быть не только практически значимым, но и значимым статистически. Последнее утверждение нуждается в дополнительной проверке. "
   ]
  },
  {
   "cell_type": "code",
   "execution_count": 20,
   "metadata": {
    "scrolled": true
   },
   "outputs": [
    {
     "data": {
      "image/png": "[encoded data removed]",
      "text/plain": [
       "<Figure size 1080x360 with 2 Axes>"
      ]
     },
     "metadata": {
      "needs_background": "light"
     },
     "output_type": "display_data"
    }
   ],
   "source": [
    "plt.figure(figsize=(15,5))\n",
    "plt.subplot(121)\n",
    "plt.hist(data.n_clicks.loc[exp_ind], bins=100)\n",
    "plt.title('Experiment')\n",
    "plt.subplot(122)\n",
    "plt.hist(data.n_clicks.loc[ctrl_ind], bins=100)\n",
    "plt.title('Control');"
   ]
  },
  {
   "cell_type": "markdown",
   "metadata": {},
   "source": [
    "t-критерий Стьюдента имеет множество достоинств, и потому его достаточно часто применяют в AB экспериментах. Иногда его применение может быть необоснованно из-за сильной скошенности распределения данных.\n",
    "\n",
    "Давайте постараемся понять, когда t-критерий можно применять и как это проверить на реальных данных.\n",
    "\n",
    "Для простоты рассмотрим одновыборочный t-критерий. Его статистика имеет вид $ Xˉ−μS2/n \\frac{\\bar{X} - \\mu}{ \\sqrt {S^2 / n}} S2/n $\n",
    "\n",
    "$ ​Xˉ−μ​ $, то есть чтобы действительно предположения t-критерия выполнялись необходимо, чтобы:\n",
    "\n",
    "    X¯ — среднее значение в выборке — было распределено нормально N(μ,σ2n) \n",
    "    nσ2S2  — несмещенная оценка дисперсии c масштабирующим коэффициентом — была распределена по хи-квадрат c n−1 степенями свободы χ2(n−1) \n",
    "\n",
    "Простое доказательство необходимости и достаточности этого требования можно посмотреть в самом последнем абзаце этого вопроса. Усвоение этого доказательства не обязательно для выполнения задания.\n",
    "\n",
    "Оба этих предположения можно проверить с помощью бутстрепа. Ограничимся сейчас только контрольной группой, в которой распределение кликов будем называть данными в рамках данного вопроса.\n",
    "\n",
    "Поскольку мы не знаем истинного распределения генеральной совокупности, мы можем применить бутстреп, чтобы понять, как распределены среднее значение и выборочная дисперсия. Для этого\n",
    "\n",
    "    -Получите из данных n_boot_samples псевдовыборок.\n",
    "    -По каждой из этих выборок посчитайте среднее и сумму квадратов отклонения от выборочного среднего (control_boot_chi_squared)\n",
    "    -Для получившегося вектора средних значений из n_boot_samples постройте q-q plot с помощью scipy.stats.probplot для нормального распределения\n",
    "    -Для получившегося вектора сумм квадратов отклонения от выборочного среднего постройте qq-plot с помощью scipy.stats.probplot для хи-квадрат распределения с помощью команды "
   ]
  },
  {
   "cell_type": "code",
   "execution_count": 21,
   "metadata": {},
   "outputs": [
    {
     "data": {
      "image/png": "[encoded data removed]",
      "text/plain": [
       "<Figure size 432x288 with 1 Axes>"
      ]
     },
     "metadata": {
      "needs_background": "light"
     },
     "output_type": "display_data"
    }
   ],
   "source": [
    "stats.probplot(ctrl_cl_mean, plot=plt, rvalue=True)\n",
    "plt.title('Probability for means');"
   ]
  },
  {
   "cell_type": "code",
   "execution_count": 22,
   "metadata": {},
   "outputs": [
    {
     "data": {
      "image/png": "[encoded data removed]",
      "text/plain": [
       "<Figure size 432x288 with 1 Axes>"
      ]
     },
     "metadata": {
      "needs_background": "light"
     },
     "output_type": "display_data"
    }
   ],
   "source": [
    "stats.probplot(ctrl_cl_var, plot=plt, dist='chi2', sparams=(ctrl_cl_mean.shape[0]-1), rvalue=True)\n",
    "plt.title('Probability for variances');"
   ]
  },
  {
   "cell_type": "markdown",
   "metadata": {},
   "source": [
    "Одним из возможных аналогов t-критерия, которым можно воспрользоваться, является тест Манна-Уитни. На достаточно обширном классе распределений он является асимптотически более эффективным, чем t-критерий, и при этом не требует параметрических предположений о характере распределения.\n",
    "\n",
    "Разделите выборку на две части, соответствующие control и exp группам. Преобразуйте данные к виду, чтобы каждому пользователю соответствовало суммарное значение его кликов. С помощью критерия Манна-Уитни проверьте гипотезу о равенстве средних."
   ]
  },
  {
   "cell_type": "code",
   "execution_count": 23,
   "metadata": {},
   "outputs": [
    {
     "data": {
      "text/plain": [
       "userID  browser\n",
       "1       2          23\n",
       "3       4           3\n",
       "5       4          29\n",
       "7       4          54\n",
       "9       4           6\n",
       "Name: n_clicks, dtype: int64"
      ]
     },
     "execution_count": 23,
     "metadata": {},
     "output_type": "execute_result"
    }
   ],
   "source": [
    "users_nclicks_exp = data.loc[exp_ind].groupby(['userID', 'browser']).sum().loc[:,'n_clicks']\n",
    "users_nclicks_ctrl = data.loc[ctrl_ind].groupby(['userID', 'browser']).sum().loc[:,'n_clicks']\n",
    "\n",
    "users_nclicks_exp.head()"
   ]
  },
  {
   "cell_type": "code",
   "execution_count": 24,
   "metadata": {},
   "outputs": [
    {
     "data": {
      "text/plain": [
       "userID  browser\n",
       "6       4          12\n",
       "8       4           4\n",
       "10      4          22\n",
       "15      14          2\n",
       "23      4           3\n",
       "Name: n_clicks, dtype: int64"
      ]
     },
     "execution_count": 24,
     "metadata": {},
     "output_type": "execute_result"
    }
   ],
   "source": [
    "users_nclicks_ctrl.head()"
   ]
  },
  {
   "cell_type": "code",
   "execution_count": 25,
   "metadata": {},
   "outputs": [
    {
     "data": {
      "text/plain": [
       "MannwhitneyuResult(statistic=41184125116.0, pvalue=6.247235801369629e-75)"
      ]
     },
     "execution_count": 25,
     "metadata": {},
     "output_type": "execute_result"
    }
   ],
   "source": [
    "stats.mannwhitneyu(users_nclicks_exp, users_nclicks_ctrl, alternative='two-sided')"
   ]
  },
  {
   "cell_type": "markdown",
   "metadata": {},
   "source": [
    "Проверьте, для какого из браузеров наиболее сильно выражено отличие между количеством кликов в контрольной и экспериментальной группах.\n",
    "\n",
    "Для этого примените для каждого из срезов (по каждому из уникальных значений столбца browser) критерий Манна-Уитни между control и exp группами и сделайте поправку Холма-Бонферрони на множественную проверку с $ α=0.05\\alpha=0.05α=0.05 $."
   ]
  },
  {
   "cell_type": "code",
   "execution_count": 26,
   "metadata": {},
   "outputs": [],
   "source": [
    "browsers_nclicks_exp = data.loc[exp_ind].groupby(['browser', 'userID']).sum().loc[:,'n_clicks']\n",
    "browsers_nclicks_ctrl = data.loc[ctrl_ind].groupby(['browser', 'userID']).sum().loc[:,'n_clicks']"
   ]
  },
  {
   "cell_type": "code",
   "execution_count": 27,
   "metadata": {},
   "outputs": [
    {
     "data": {
      "text/plain": [
       "browser  userID\n",
       "14       13         2\n",
       "         30         4\n",
       "         33        22\n",
       "         45         5\n",
       "         83         0\n",
       "Name: n_clicks, dtype: int64"
      ]
     },
     "execution_count": 27,
     "metadata": {},
     "output_type": "execute_result"
    }
   ],
   "source": [
    "browsers_nclicks_exp.head()"
   ]
  },
  {
   "cell_type": "code",
   "execution_count": 28,
   "metadata": {},
   "outputs": [
    {
     "data": {
      "text/plain": [
       "browser  userID\n",
       "14       15        2\n",
       "         39        0\n",
       "         56        4\n",
       "         81        2\n",
       "         88        2\n",
       "Name: n_clicks, dtype: int64"
      ]
     },
     "execution_count": 28,
     "metadata": {},
     "output_type": "execute_result"
    }
   ],
   "source": [
    "browsers_nclicks_ctrl.head()"
   ]
  },
  {
   "cell_type": "code",
   "execution_count": 29,
   "metadata": {},
   "outputs": [
    {
     "name": "stdout",
     "output_type": "stream",
     "text": [
      "Unique browsers numbers: ['14' '17' '2' '20' '22' '4']\n",
      "\n",
      "Mann-Whitney rank test without multipletest\n",
      "Browser #14: \n",
      "p-value = 0.0000\n",
      "Browser #17: \n",
      "p-value = 0.0748\n",
      "Browser #2: \n",
      "p-value = 0.0545\n",
      "Browser #20: \n",
      "p-value = 0.9073\n",
      "Browser #22: \n",
      "p-value = 0.5148\n",
      "Browser #4: \n",
      "p-value = 0.8152\n",
      "\n",
      "Mann-Whitney rank test with multipletest\n",
      "Browser #14: \n",
      "p-value = 0.0000\n",
      "Browser #17: \n",
      "p-value = 0.2992\n",
      "Browser #2: \n",
      "p-value = 0.2724\n",
      "Browser #20: \n",
      "p-value = 1.0000\n",
      "Browser #22: \n",
      "p-value = 1.0000\n",
      "Browser #4: \n",
      "p-value = 1.0000\n"
     ]
    }
   ],
   "source": [
    "browsers = np.unique(data.browser)\n",
    "print('Unique browsers numbers: ' + str(browsers))\n",
    "print('')\n",
    "\n",
    "print('Mann-Whitney rank test without multipletest')\n",
    "mw_p = np.empty(browsers.shape[0])\n",
    "for i, br in enumerate(browsers):\n",
    "    print('Browser #%d: ' % float(br)),\n",
    "    _, mw_p[i] = stats.mannwhitneyu(browsers_nclicks_exp.loc[br, :], browsers_nclicks_ctrl.loc[br, :], alternative='two-sided')\n",
    "    print('p-value = %.4f' % mw_p[i])\n",
    "\n",
    "print('')\n",
    "print('Mann-Whitney rank test with multipletest')\n",
    "_, mw_p_corr, _, _ = multipletests(mw_p, alpha = 0.05, method = 'holm')\n",
    "for i, br in enumerate(browsers):\n",
    "    print('Browser #%d: ' % float(br)),\n",
    "    print('p-value = %.4f' % mw_p_corr[i])"
   ]
  },
  {
   "cell_type": "markdown",
   "metadata": {},
   "source": [
    "Для каждого браузера в каждой из двух групп (control и exp) посчитайте долю запросов, в которых пользователь не кликнул ни разу. Это можно сделать, поделив сумму значений n_nonclk_queries на сумму значений n_queries. Умножив это значение на 100, получим процент некликнутых запросов, который можно легче проинтерпретировать."
   ]
  },
  {
   "cell_type": "code",
   "execution_count": 30,
   "metadata": {},
   "outputs": [
    {
     "name": "stdout",
     "output_type": "stream",
     "text": [
      "Browser #14  [0.57590411] / [0.43755617]\n",
      "Browser #17  [0.36299367] / [0.36937413]\n",
      "Browser #2  [0.45962747] / [0.44982747]\n",
      "Browser #20  [0.40540485] / [0.38977376]\n",
      "Browser #22  [0.40593977] / [0.39853947]\n",
      "Browser #4  [0.4697093] / [0.45142942]\n"
     ]
    }
   ],
   "source": [
    "browsers_nonclk_q_exp = data.loc[exp_ind].groupby(['browser']).sum().loc[:,'n_nonclk_queries']\n",
    "browsers_clk_q_exp = data.loc[exp_ind].groupby(['browser']).sum().loc[:,'n_queries']\n",
    "browsers_nonclk_q_prop_exp = browsers_nonclk_q_exp / browsers_clk_q_exp\n",
    "\n",
    "browsers_nonclk_q_ctrl = data.loc[ctrl_ind].groupby(['browser']).sum().loc[:,'n_nonclk_queries']\n",
    "browsers_clk_q_ctrl = data.loc[ctrl_ind].groupby(['browser']).sum().loc[:,'n_queries']\n",
    "browsers_nonclk_q_prop_ctrl = browsers_nonclk_q_ctrl / browsers_clk_q_ctrl\n",
    "\n",
    "for br in browsers:\n",
    "    print('Browser #%d' % float(br), end='  '),\n",
    "    print(browsers_nonclk_q_prop_ctrl.loc[browsers_nonclk_q_prop_ctrl.index == br].values, end=' '),\n",
    "    print('/', end=' '),\n",
    "    print(browsers_nonclk_q_prop_exp.loc[browsers_nonclk_q_prop_ctrl.index == br].values)"
   ]
  }
 ],
 "metadata": {
  "kernelspec": {
   "display_name": "Python 3",
   "language": "python",
   "name": "python3"
  },
  "language_info": {
   "codemirror_mode": {
    "name": "ipython",
    "version": 3
   },
   "file_extension": ".py",
   "mimetype": "text/x-python",
   "name": "python",
   "nbconvert_exporter": "python",
   "pygments_lexer": "ipython3",
   "version": "3.7.4"
  }
 },
 "nbformat": 4,
 "nbformat_minor": 2
}
